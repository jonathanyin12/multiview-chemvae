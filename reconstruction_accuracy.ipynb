{
 "cells": [
  {
   "cell_type": "markdown",
   "metadata": {},
   "source": [
    "# Load model"
   ]
  },
  {
   "cell_type": "code",
   "execution_count": null,
   "metadata": {},
   "outputs": [],
   "source": [
    "import molecule_vae\n",
    "\n",
    "\n",
    "weights_path=\"./weights\"\n",
    "\n",
    "grammar_weights = weights_path + \"/GrammarVAE_L128.hdf5\"\n",
    "grammar_model = molecule_vae.GrammarModel(grammar_weights, latent_rep_size=128)\n",
    "\n",
    "two_tower_grammar_weights = weights_path + \"/Two_tower_GrammarVAE_L128.hdf5\"\n",
    "two_tower_grammar_model = molecule_vae.GrammarModel(two_tower_grammar_weights, latent_rep_size=128, two_tower=True)\n",
    "\n",
    "character_weights = weights_path + \"/CharVAE_L128.hdf5\"\n",
    "character_model = molecule_vae.CharacterModel(character_weights, latent_rep_size=128)\n",
    "\n",
    "two_tower_character_weights = weights_path + \"/Two_tower_CharVAE_L128.hdf5\"\n",
    "two_tower_character_model = molecule_vae.CharacterModel(two_tower_character_weights, latent_rep_size=128, two_tower=True)"
   ]
  },
  {
   "cell_type": "markdown",
   "metadata": {},
   "source": [
    "# Clean data"
   ]
  },
  {
   "cell_type": "code",
   "execution_count": null,
   "metadata": {},
   "outputs": [],
   "source": [
    "import h5py\n",
    "import numpy as np\n",
    "\n",
    "grammar_data_path = 'grammar_dataset.h5'\n",
    "features_data_path = 'features_dataset.h5'\n",
    "char_data_path = 'char_dataset.h5'\n",
    "\n",
    "#144338 158009\n",
    "h5f = h5py.File(grammar_data_path, 'r')\n",
    "grammar_data = h5f['data'][:]\n",
    "h5f.close()\n",
    "grammar_data=np.delete(grammar_data, [144338, 158009], axis=0) \n",
    "\n",
    "h5f = h5py.File(char_data_path, 'r')\n",
    "char_data = h5f['data'][:]\n",
    "h5f.close()\n",
    "char_data=np.delete(char_data, [144338, 158009], axis=0) \n",
    "\n",
    "h5f = h5py.File(features_data_path, 'r')\n",
    "rdkit_features = h5f['rdkit2d_normalized'][:]\n",
    "h5f.close()\n",
    "rdkit_features=np.expand_dims(rdkit_features, axis=2)\n",
    "rdkit_features=np.delete(rdkit_features, [144338, 158009], axis=0)"
   ]
  },
  {
   "cell_type": "markdown",
   "metadata": {},
   "source": [
    "# Calculate reconstruction accuracy"
   ]
  },
  {
   "cell_type": "code",
   "execution_count": null,
   "metadata": {},
   "outputs": [],
   "source": [
    "from tqdm import tqdm\n",
    "# from sklearn.metrics import accuracy_score\n",
    "\n",
    "charlist = ['C', '(', ')', 'c', '1', '2', 'o', '=', 'O', 'N', '3', 'F', '[',\n",
    "            '@', 'H', ']', 'n', '-', '#', 'S', 'l', '+', 's', 'B', 'r', '/',\n",
    "            '4', '\\\\', '5', '6', '7', 'I', 'P', '8', ' ']\n",
    "_char_index = {}\n",
    "for ix, char in enumerate(charlist):\n",
    "    _char_index[char] = ix\n",
    "\n",
    "def encode(smiles):\n",
    "    \"\"\" Encode a list of smiles strings into the latent space \"\"\"\n",
    "    indices = [np.array([_char_index[c] for c in entry], dtype=int) for entry in smiles]\n",
    "    one_hot = np.zeros((len(indices), 120, len(charlist)), dtype=np.float32)\n",
    "    for i in range(len(indices)):\n",
    "        num_productions = len(indices[i])\n",
    "        one_hot[i][np.arange(num_productions),indices[i]] = 1.\n",
    "        one_hot[i][np.arange(num_productions, 120),-1] = 1.\n",
    "    return one_hot\n",
    "\n",
    "def reconstruction(model, structures_data, features_data=None, grammar=False):\n",
    "    \n",
    "    avg_reconstructions = []\n",
    "\n",
    "    for i in tqdm(range(structures_data.shape[0])):\n",
    "        num_correct = 0\n",
    "        structure_one_hot = structures_data[i]\n",
    "        repeated_one_hot=np.array([structure_one_hot for i in range(10)])\n",
    "\n",
    "        if features_data is not None:\n",
    "            features = features_data[i]\n",
    "            repeated_features = np.array([features for i in range(10)])\n",
    "            encodings = model.vae.encoder.predict([repeated_one_hot, repeated_features])\n",
    "            repeat_encodings = np.tile(encodings, (10,1))\n",
    "            out, features = model.vae.decoder.predict(repeat_encodings)\n",
    "        else:\n",
    "            encodings = model.vae.encoder.predict(repeated_one_hot)\n",
    "            repeat_encodings = np.tile(encodings, (10,1))\n",
    "            out = model.vae.decoder.predict(repeat_encodings)\n",
    "\n",
    "        if grammar:\n",
    "            X_hat = model._sample_using_masks(out)\n",
    "        else:\n",
    "            noise = np.random.gumbel(size=out.shape)\n",
    "            sampled_chars = np.argmax(np.log(out) + noise, axis=-1)\n",
    "            char_matrix = np.array(charlist)[np.array(sampled_chars, dtype=int)]\n",
    "            s=[''.join(ch).strip() for ch in char_matrix]\n",
    "            X_hat=encode(s)\n",
    "\n",
    "       \n",
    "        for structure in X_hat:\n",
    "            if np.array_equal(structure, structure_one_hot):\n",
    "                num_correct+=1\n",
    "\n",
    "        avg_reconstructions.append(num_correct/100)\n",
    "        print(np.average(avg_reconstructions), np.std(avg_reconstructions))\n",
    "\n",
    "    return np.average(avg_reconstructions)"
   ]
  },
  {
   "cell_type": "code",
   "execution_count": null,
   "metadata": {},
   "outputs": [],
   "source": [
    "reconstruction (character_model, char_data[:5000], grammar=False)\n",
    "reconstruction (two_tower_character_model, char_data[:5000], rdkit_features[:5000], grammar=False)\n",
    "\n",
    "reconstruction (grammar_model, grammar_data[:5000], grammar=True)\n",
    "reconstruction (two_tower_grammar_model, grammar_data[:5000], rdkit_features[:5000], grammar=True)"
   ]
  }
 ],
 "metadata": {
  "kernelspec": {
   "name": "python3613jvsc74a57bd014c0419fa5dc6599ba6e4c21416d65d4825df4454f7e54a601a3318ef9ad1c5d",
   "display_name": "Python 3.6.13 64-bit ('multiview_chemvae': conda)"
  },
  "language_info": {
   "codemirror_mode": {
    "name": "ipython",
    "version": 3
   },
   "file_extension": ".py",
   "mimetype": "text/x-python",
   "name": "python",
   "nbconvert_exporter": "python",
   "pygments_lexer": "ipython3",
   "version": "3.6.13"
  }
 },
 "nbformat": 4,
 "nbformat_minor": 2
}