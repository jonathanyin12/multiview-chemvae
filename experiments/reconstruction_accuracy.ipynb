{
 "cells": [
  {
   "cell_type": "markdown",
   "source": [
    "# **Load model**"
   ],
   "metadata": {}
  },
  {
   "cell_type": "code",
   "execution_count": null,
   "source": [
    "import sys\r\n",
    "sys.path.insert(0, '../')\r\n",
    "\r\n",
    "import molecule_vae\r\n",
    "\r\n",
    "character_weights = \"../weights/CharVAE_L128.hdf5\"\r\n",
    "character_model = molecule_vae.CharacterModel(character_weights, two_tower=False)\r\n",
    "\r\n",
    "# two_tower_character_weights = \"../weights/Two_tower_CharVAE_L128.hdf5\"\r\n",
    "# two_tower_character_model = molecule_vae.CharacterModel(two_tower_character_weights, two_tower=True)\r\n",
    "\r\n",
    "# grammar_weights = \"../weights/GrammarVAE_L128.hdf5\"\r\n",
    "# grammar_model = molecule_vae.GrammarModel(grammar_weights, two_tower=False)\r\n",
    "\r\n",
    "# two_tower_grammar_weights = \"../weights/Two_tower_GrammarVAE_L128.hdf5\"\r\n",
    "# two_tower_grammar_model = molecule_vae.GrammarModel(two_tower_grammar_weights, two_tower=True)"
   ],
   "outputs": [],
   "metadata": {}
  },
  {
   "cell_type": "markdown",
   "source": [
    "# **Load data**"
   ],
   "metadata": {}
  },
  {
   "cell_type": "code",
   "execution_count": null,
   "source": [
    "import h5py\r\n",
    "import numpy as np\r\n",
    "\r\n",
    "grammar_data_path = '../grammar_dataset.h5'\r\n",
    "char_data_path = '../char_dataset.h5'\r\n",
    "features_data_path = '../features_dataset.h5'\r\n",
    "\r\n",
    "h5f = h5py.File(grammar_data_path, 'r')\r\n",
    "grammar_data = h5f['data'][:]\r\n",
    "h5f.close()\r\n",
    "\r\n",
    "h5f = h5py.File(char_data_path, 'r')\r\n",
    "char_data = h5f['data'][:]\r\n",
    "h5f.close()\r\n",
    "\r\n",
    "h5f = h5py.File(features_data_path, 'r')\r\n",
    "rdkit_features = h5f['data'][:]\r\n",
    "h5f.close()\r\n",
    "\r\n",
    "\r\n",
    "# Delete NaN values\r\n",
    "nan_indices = np.unique(np.argwhere(np.isnan(rdkit_features))[:,0])\r\n",
    "rdkit_features = np.delete(rdkit_features, nan_indices, axis=0)\r\n",
    "char_data=np.delete(char_data, nan_indices, axis=0) \r\n",
    "grammar_data=np.delete(grammar_data, nan_indices, axis=0) \r\n",
    "\r\n",
    "# Select testing data\r\n",
    "char_data=char_data[:5000]\r\n",
    "grammar_data=grammar_data[:5000]\r\n",
    "rdkit_features=rdkit_features[:5000]"
   ],
   "outputs": [],
   "metadata": {}
  },
  {
   "cell_type": "markdown",
   "source": [
    "# **Calculate reconstruction accuracy**"
   ],
   "metadata": {}
  },
  {
   "cell_type": "code",
   "execution_count": null,
   "source": [
    "from tqdm.notebook import tqdm\r\n",
    "\r\n",
    "charlist = ['C', '(', ')', 'c', '1', '2', 'o', '=', 'O', 'N', '3', 'F', '[',\r\n",
    "            '@', 'H', ']', 'n', '-', '#', 'S', 'l', '+', 's', 'B', 'r', '/',\r\n",
    "            '4', '\\\\', '5', '6', '7', 'I', 'P', '8', ' ']\r\n",
    "_char_index = {}\r\n",
    "for ix, char in enumerate(charlist):\r\n",
    "    _char_index[char] = ix\r\n",
    "\r\n",
    "def encode(smiles):\r\n",
    "    \"\"\" Encode a list of smiles strings into the latent space \"\"\"\r\n",
    "    indices = [np.array([_char_index[c] for c in entry], dtype=int) for entry in smiles]\r\n",
    "    one_hot = np.zeros((len(indices), 120, len(charlist)), dtype=np.float32)\r\n",
    "    for i in range(len(indices)):\r\n",
    "        num_productions = len(indices[i])\r\n",
    "        one_hot[i][np.arange(num_productions),indices[i]] = 1.\r\n",
    "        one_hot[i][np.arange(num_productions, 120),-1] = 1.\r\n",
    "    return one_hot\r\n",
    "\r\n",
    "def reconstruction(model, model_type, smiles_data, features_data=None):\r\n",
    "    avg_reconstructions = []\r\n",
    "    for i in tqdm(range(smiles_data.shape[0])):\r\n",
    "        num_correct = 0\r\n",
    "        structure_one_hot = smiles_data[i]\r\n",
    "        repeated_one_hot=np.array([structure_one_hot for i in range(10)])\r\n",
    "\r\n",
    "        if model._two_tower:\r\n",
    "            features = features_data[i]\r\n",
    "            repeated_features = np.array([features for i in range(10)])\r\n",
    "            encodings = model.vae.encoder.predict([repeated_one_hot, repeated_features])\r\n",
    "            repeat_encodings = np.tile(encodings, (10,1))\r\n",
    "            out, features = model.vae.decoder.predict(repeat_encodings)\r\n",
    "        else:\r\n",
    "            encodings = model.vae.encoder.predict(repeated_one_hot)\r\n",
    "            repeat_encodings = np.tile(encodings, (10,1))\r\n",
    "            out = model.vae.decoder.predict(repeat_encodings)\r\n",
    "\r\n",
    "        if model_type == 'Grammar':\r\n",
    "            X_hat = model._sample_using_masks(out)\r\n",
    "        elif model_type == 'Character':\r\n",
    "            noise = np.random.gumbel(size=out.shape)\r\n",
    "            sampled_chars = np.argmax(np.log(out) + noise, axis=-1)\r\n",
    "            char_matrix = np.array(charlist)[np.array(sampled_chars, dtype=int)]\r\n",
    "            s=[''.join(ch).strip() for ch in char_matrix]\r\n",
    "            X_hat=encode(s)\r\n",
    "        else:\r\n",
    "            raise ValueError('Invalid model_type. Must be either \\'Grammar\\' or \\'Character\\'')\r\n",
    "\r\n",
    "        for structure in X_hat:\r\n",
    "            if np.array_equal(structure, structure_one_hot):\r\n",
    "                num_correct+=1\r\n",
    "\r\n",
    "        avg_reconstructions.append(num_correct/100)\r\n",
    "        print('Average accuracy: {} +/- {}'.format(np.average(avg_reconstructions), np.std(avg_reconstructions)))\r\n",
    "\r\n",
    "    return np.average(avg_reconstructions), np.std(avg_reconstructions)"
   ],
   "outputs": [],
   "metadata": {}
  },
  {
   "cell_type": "code",
   "execution_count": null,
   "source": [
    "reconstruction (character_model, 'Character', char_data)\r\n",
    "# reconstruction (two_tower_character_model, 'Character', char_data, rdkit_features)\r\n",
    "\r\n",
    "# reconstruction (grammar_model, 'Grammar', grammar_data)\r\n",
    "# reconstruction (two_tower_grammar_model, 'Grammar', grammar_data, rdkit_features)"
   ],
   "outputs": [],
   "metadata": {}
  }
 ],
 "metadata": {
  "kernelspec": {
   "name": "python3",
   "display_name": "Python 3.6.13 64-bit ('multiview_chemvae': conda)"
  },
  "language_info": {
   "codemirror_mode": {
    "name": "ipython",
    "version": 3
   },
   "file_extension": ".py",
   "mimetype": "text/x-python",
   "name": "python",
   "nbconvert_exporter": "python",
   "pygments_lexer": "ipython3",
   "version": "3.6.13"
  },
  "interpreter": {
   "hash": "29db295136b199f295fe4590eb73521f1f9b483c9eb3c02d1a26fce559664da2"
  }
 },
 "nbformat": 4,
 "nbformat_minor": 2
}