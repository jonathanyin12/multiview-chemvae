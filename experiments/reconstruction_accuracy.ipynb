{
 "cells": [
  {
   "cell_type": "markdown",
   "metadata": {},
   "source": [
    "# Load model"
   ]
  },
  {
   "cell_type": "code",
   "execution_count": 1,
   "metadata": {},
   "outputs": [
    {
     "output_type": "stream",
     "name": "stderr",
     "text": [
      "Using TensorFlow backend.\n",
      "C:\\Users\\jonat\\Anaconda3\\envs\\multiview_chemvae\\lib\\site-packages\\tensorflow\\python\\framework\\dtypes.py:516: FutureWarning: Passing (type, 1) or '1type' as a synonym of type is deprecated; in a future version of numpy, it will be understood as (type, (1,)) / '(1,)type'.\n",
      "  _np_qint8 = np.dtype([(\"qint8\", np.int8, 1)])\n",
      "C:\\Users\\jonat\\Anaconda3\\envs\\multiview_chemvae\\lib\\site-packages\\tensorflow\\python\\framework\\dtypes.py:517: FutureWarning: Passing (type, 1) or '1type' as a synonym of type is deprecated; in a future version of numpy, it will be understood as (type, (1,)) / '(1,)type'.\n",
      "  _np_quint8 = np.dtype([(\"quint8\", np.uint8, 1)])\n",
      "C:\\Users\\jonat\\Anaconda3\\envs\\multiview_chemvae\\lib\\site-packages\\tensorflow\\python\\framework\\dtypes.py:518: FutureWarning: Passing (type, 1) or '1type' as a synonym of type is deprecated; in a future version of numpy, it will be understood as (type, (1,)) / '(1,)type'.\n",
      "  _np_qint16 = np.dtype([(\"qint16\", np.int16, 1)])\n",
      "C:\\Users\\jonat\\Anaconda3\\envs\\multiview_chemvae\\lib\\site-packages\\tensorflow\\python\\framework\\dtypes.py:519: FutureWarning: Passing (type, 1) or '1type' as a synonym of type is deprecated; in a future version of numpy, it will be understood as (type, (1,)) / '(1,)type'.\n",
      "  _np_quint16 = np.dtype([(\"quint16\", np.uint16, 1)])\n",
      "C:\\Users\\jonat\\Anaconda3\\envs\\multiview_chemvae\\lib\\site-packages\\tensorflow\\python\\framework\\dtypes.py:520: FutureWarning: Passing (type, 1) or '1type' as a synonym of type is deprecated; in a future version of numpy, it will be understood as (type, (1,)) / '(1,)type'.\n",
      "  _np_qint32 = np.dtype([(\"qint32\", np.int32, 1)])\n",
      "C:\\Users\\jonat\\Anaconda3\\envs\\multiview_chemvae\\lib\\site-packages\\tensorflow\\python\\framework\\dtypes.py:525: FutureWarning: Passing (type, 1) or '1type' as a synonym of type is deprecated; in a future version of numpy, it will be understood as (type, (1,)) / '(1,)type'.\n",
      "  np_resource = np.dtype([(\"resource\", np.ubyte, 1)])\n",
      "C:\\Users\\jonat\\Anaconda3\\envs\\multiview_chemvae\\lib\\site-packages\\tensorboard\\compat\\tensorflow_stub\\dtypes.py:541: FutureWarning: Passing (type, 1) or '1type' as a synonym of type is deprecated; in a future version of numpy, it will be understood as (type, (1,)) / '(1,)type'.\n",
      "  _np_qint8 = np.dtype([(\"qint8\", np.int8, 1)])\n",
      "C:\\Users\\jonat\\Anaconda3\\envs\\multiview_chemvae\\lib\\site-packages\\tensorboard\\compat\\tensorflow_stub\\dtypes.py:542: FutureWarning: Passing (type, 1) or '1type' as a synonym of type is deprecated; in a future version of numpy, it will be understood as (type, (1,)) / '(1,)type'.\n",
      "  _np_quint8 = np.dtype([(\"quint8\", np.uint8, 1)])\n",
      "C:\\Users\\jonat\\Anaconda3\\envs\\multiview_chemvae\\lib\\site-packages\\tensorboard\\compat\\tensorflow_stub\\dtypes.py:543: FutureWarning: Passing (type, 1) or '1type' as a synonym of type is deprecated; in a future version of numpy, it will be understood as (type, (1,)) / '(1,)type'.\n",
      "  _np_qint16 = np.dtype([(\"qint16\", np.int16, 1)])\n",
      "C:\\Users\\jonat\\Anaconda3\\envs\\multiview_chemvae\\lib\\site-packages\\tensorboard\\compat\\tensorflow_stub\\dtypes.py:544: FutureWarning: Passing (type, 1) or '1type' as a synonym of type is deprecated; in a future version of numpy, it will be understood as (type, (1,)) / '(1,)type'.\n",
      "  _np_quint16 = np.dtype([(\"quint16\", np.uint16, 1)])\n",
      "C:\\Users\\jonat\\Anaconda3\\envs\\multiview_chemvae\\lib\\site-packages\\tensorboard\\compat\\tensorflow_stub\\dtypes.py:545: FutureWarning: Passing (type, 1) or '1type' as a synonym of type is deprecated; in a future version of numpy, it will be understood as (type, (1,)) / '(1,)type'.\n",
      "  _np_qint32 = np.dtype([(\"qint32\", np.int32, 1)])\n",
      "C:\\Users\\jonat\\Anaconda3\\envs\\multiview_chemvae\\lib\\site-packages\\tensorboard\\compat\\tensorflow_stub\\dtypes.py:550: FutureWarning: Passing (type, 1) or '1type' as a synonym of type is deprecated; in a future version of numpy, it will be understood as (type, (1,)) / '(1,)type'.\n",
      "  np_resource = np.dtype([(\"resource\", np.ubyte, 1)])\n",
      "1e-04\n",
      "1e-04\n",
      "1e-04\n",
      "1e-04\n"
     ]
    }
   ],
   "source": [
    "import sys\n",
    "sys.path.insert(0, '../')\n",
    "\n",
    "import molecule_vae\n",
    "\n",
    "grammar_weights = \"../weights/GrammarVAE_L128.hdf5\"\n",
    "grammar_model = molecule_vae.GrammarModel(grammar_weights, latent_rep_size=128)\n",
    "\n",
    "two_tower_grammar_weights = \"../weights/Two_tower_GrammarVAE_L128.hdf5\"\n",
    "two_tower_grammar_model = molecule_vae.GrammarModel(two_tower_grammar_weights, latent_rep_size=128, two_tower=True)\n",
    "\n",
    "character_weights = \"../weights/CharVAE_L128.hdf5\"\n",
    "character_model = molecule_vae.CharacterModel(character_weights, latent_rep_size=128)\n",
    "\n",
    "two_tower_character_weights = \"../weights/Two_tower_CharVAE_L128.hdf5\"\n",
    "two_tower_character_model = molecule_vae.CharacterModel(two_tower_character_weights, latent_rep_size=128, two_tower=True)"
   ]
  },
  {
   "cell_type": "markdown",
   "metadata": {},
   "source": [
    "# Clean data"
   ]
  },
  {
   "cell_type": "code",
   "execution_count": 2,
   "metadata": {},
   "outputs": [],
   "source": [
    "import h5py\n",
    "import numpy as np\n",
    "\n",
    "grammar_data_path = '../grammar_dataset.h5'\n",
    "features_data_path = '../features_dataset.h5'\n",
    "char_data_path = '../char_dataset.h5'\n",
    "\n",
    "#144338 158009\n",
    "h5f = h5py.File(grammar_data_path, 'r')\n",
    "grammar_data = h5f['data'][:]\n",
    "h5f.close()\n",
    "grammar_data=np.delete(grammar_data, [144338, 158009], axis=0) \n",
    "\n",
    "h5f = h5py.File(char_data_path, 'r')\n",
    "char_data = h5f['data'][:]\n",
    "h5f.close()\n",
    "char_data=np.delete(char_data, [144338, 158009], axis=0) \n",
    "\n",
    "h5f = h5py.File(features_data_path, 'r')\n",
    "rdkit_features = h5f['rdkit2d_normalized'][:]\n",
    "h5f.close()\n",
    "rdkit_features=np.expand_dims(rdkit_features, axis=2)\n",
    "rdkit_features=np.delete(rdkit_features, [144338, 158009], axis=0)"
   ]
  },
  {
   "cell_type": "markdown",
   "metadata": {},
   "source": [
    "# Calculate reconstruction accuracy"
   ]
  },
  {
   "cell_type": "code",
   "execution_count": 3,
   "metadata": {},
   "outputs": [],
   "source": [
    "from tqdm import tqdm\n",
    "# from sklearn.metrics import accuracy_score\n",
    "\n",
    "charlist = ['C', '(', ')', 'c', '1', '2', 'o', '=', 'O', 'N', '3', 'F', '[',\n",
    "            '@', 'H', ']', 'n', '-', '#', 'S', 'l', '+', 's', 'B', 'r', '/',\n",
    "            '4', '\\\\', '5', '6', '7', 'I', 'P', '8', ' ']\n",
    "_char_index = {}\n",
    "for ix, char in enumerate(charlist):\n",
    "    _char_index[char] = ix\n",
    "\n",
    "def encode(smiles):\n",
    "    \"\"\" Encode a list of smiles strings into the latent space \"\"\"\n",
    "    indices = [np.array([_char_index[c] for c in entry], dtype=int) for entry in smiles]\n",
    "    one_hot = np.zeros((len(indices), 120, len(charlist)), dtype=np.float32)\n",
    "    for i in range(len(indices)):\n",
    "        num_productions = len(indices[i])\n",
    "        one_hot[i][np.arange(num_productions),indices[i]] = 1.\n",
    "        one_hot[i][np.arange(num_productions, 120),-1] = 1.\n",
    "    return one_hot\n",
    "\n",
    "def reconstruction(model, structures_data, features_data=None, grammar=False):\n",
    "    \n",
    "    avg_reconstructions = []\n",
    "\n",
    "    for i in tqdm(range(structures_data.shape[0])):\n",
    "        num_correct = 0\n",
    "        structure_one_hot = structures_data[i]\n",
    "        repeated_one_hot=np.array([structure_one_hot for i in range(10)])\n",
    "\n",
    "        if features_data is not None:\n",
    "            features = features_data[i]\n",
    "            repeated_features = np.array([features for i in range(10)])\n",
    "            encodings = model.vae.encoder.predict([repeated_one_hot, repeated_features])\n",
    "            repeat_encodings = np.tile(encodings, (10,1))\n",
    "            out, features = model.vae.decoder.predict(repeat_encodings)\n",
    "        else:\n",
    "            encodings = model.vae.encoder.predict(repeated_one_hot)\n",
    "            repeat_encodings = np.tile(encodings, (10,1))\n",
    "            out = model.vae.decoder.predict(repeat_encodings)\n",
    "\n",
    "        if grammar:\n",
    "            X_hat = model._sample_using_masks(out)\n",
    "        else:\n",
    "            noise = np.random.gumbel(size=out.shape)\n",
    "            sampled_chars = np.argmax(np.log(out) + noise, axis=-1)\n",
    "            char_matrix = np.array(charlist)[np.array(sampled_chars, dtype=int)]\n",
    "            s=[''.join(ch).strip() for ch in char_matrix]\n",
    "            X_hat=encode(s)\n",
    "\n",
    "       \n",
    "        for structure in X_hat:\n",
    "            if np.array_equal(structure, structure_one_hot):\n",
    "                num_correct+=1\n",
    "\n",
    "        avg_reconstructions.append(num_correct/100)\n",
    "        print(np.average(avg_reconstructions), np.std(avg_reconstructions))\n",
    "\n",
    "    return np.average(avg_reconstructions)"
   ]
  },
  {
   "cell_type": "code",
   "execution_count": 4,
   "metadata": {},
   "outputs": [
    {
     "output_type": "stream",
     "name": "stderr",
     "text": [
      "  0%|          | 0/5000 [00:00<?, ?it/s]WARNING:tensorflow:From C:\\Users\\jonat\\Anaconda3\\envs\\multiview_chemvae\\lib\\site-packages\\keras\\backend\\tensorflow_backend.py:422: The name tf.global_variables is deprecated. Please use tf.compat.v1.global_variables instead.\n",
      "\n",
      "  0%|          | 1/5000 [00:09<12:51:07,  9.26s/it]0.28 0.0\n",
      "  0%|          | 2/5000 [00:16<11:23:49,  8.21s/it]0.39 0.10999999999999999\n",
      "  0%|          | 3/5000 [00:23<10:47:08,  7.77s/it]0.58 0.283313724811677\n",
      "  0%|          | 4/5000 [00:31<10:31:48,  7.59s/it]0.5575 0.24843258642939736\n",
      "  0%|          | 5/5000 [00:38<10:21:33,  7.47s/it]0.446 0.314807877919216\n",
      "  0%|          | 6/5000 [00:45<10:19:02,  7.44s/it]0.4683333333333333 0.2916857136637918\n",
      "  0%|          | 7/5000 [00:53<10:23:08,  7.49s/it]0.41000000000000003 0.30552063292494197\n",
      "  0%|          | 8/5000 [01:00<10:17:26,  7.42s/it]0.47375 0.3318485158924174\n",
      "  0%|          | 9/5000 [01:08<10:20:03,  7.45s/it]0.4211111111111111 0.34648855823483454\n",
      "  0%|          | 10/5000 [01:15<10:16:21,  7.41s/it]0.45499999999999996 0.3440712135590538\n",
      "  0%|          | 11/5000 [01:22<10:14:46,  7.39s/it]0.41363636363636364 0.35317450559880265\n",
      "  0%|          | 12/5000 [01:30<10:14:48,  7.40s/it]0.42083333333333334 0.33898029277361963\n",
      "  0%|          | 13/5000 [01:37<10:15:57,  7.41s/it]0.4230769230769231 0.32577445277805356\n",
      "  0%|          | 14/5000 [01:45<10:16:23,  7.42s/it]0.43785714285714283 0.31841524037979474\n",
      "  0%|          | 15/5000 [01:52<10:14:21,  7.39s/it]0.4646666666666667 0.32356074476913227\n",
      "  0%|          | 15/5000 [01:59<11:03:07,  7.98s/it]\n"
     ]
    },
    {
     "output_type": "error",
     "ename": "KeyboardInterrupt",
     "evalue": "",
     "traceback": [
      "\u001b[1;31m---------------------------------------------------------------------------\u001b[0m",
      "\u001b[1;31mKeyboardInterrupt\u001b[0m                         Traceback (most recent call last)",
      "\u001b[1;32m<ipython-input-4-26793e6937cb>\u001b[0m in \u001b[0;36m<module>\u001b[1;34m()\u001b[0m\n\u001b[0;32m      3\u001b[0m \u001b[1;33m\u001b[0m\u001b[0m\n\u001b[0;32m      4\u001b[0m \u001b[1;31m# reconstruction (grammar_model, grammar_data[:5000], grammar=True)\u001b[0m\u001b[1;33m\u001b[0m\u001b[1;33m\u001b[0m\u001b[1;33m\u001b[0m\u001b[0m\n\u001b[1;32m----> 5\u001b[1;33m \u001b[0mreconstruction\u001b[0m \u001b[1;33m(\u001b[0m\u001b[0mtwo_tower_grammar_model\u001b[0m\u001b[1;33m,\u001b[0m \u001b[0mgrammar_data\u001b[0m\u001b[1;33m[\u001b[0m\u001b[1;33m:\u001b[0m\u001b[1;36m5000\u001b[0m\u001b[1;33m]\u001b[0m\u001b[1;33m,\u001b[0m \u001b[0mrdkit_features\u001b[0m\u001b[1;33m[\u001b[0m\u001b[1;33m:\u001b[0m\u001b[1;36m5000\u001b[0m\u001b[1;33m]\u001b[0m\u001b[1;33m,\u001b[0m \u001b[0mgrammar\u001b[0m\u001b[1;33m=\u001b[0m\u001b[1;32mTrue\u001b[0m\u001b[1;33m)\u001b[0m\u001b[1;33m\u001b[0m\u001b[1;33m\u001b[0m\u001b[0m\n\u001b[0m",
      "\u001b[1;32m<ipython-input-3-8c85eb2381cf>\u001b[0m in \u001b[0;36mreconstruction\u001b[1;34m(model, structures_data, features_data, grammar)\u001b[0m\n\u001b[0;32m     33\u001b[0m             \u001b[0mencodings\u001b[0m \u001b[1;33m=\u001b[0m \u001b[0mmodel\u001b[0m\u001b[1;33m.\u001b[0m\u001b[0mvae\u001b[0m\u001b[1;33m.\u001b[0m\u001b[0mencoder\u001b[0m\u001b[1;33m.\u001b[0m\u001b[0mpredict\u001b[0m\u001b[1;33m(\u001b[0m\u001b[1;33m[\u001b[0m\u001b[0mrepeated_one_hot\u001b[0m\u001b[1;33m,\u001b[0m \u001b[0mrepeated_features\u001b[0m\u001b[1;33m]\u001b[0m\u001b[1;33m)\u001b[0m\u001b[1;33m\u001b[0m\u001b[1;33m\u001b[0m\u001b[0m\n\u001b[0;32m     34\u001b[0m             \u001b[0mrepeat_encodings\u001b[0m \u001b[1;33m=\u001b[0m \u001b[0mnp\u001b[0m\u001b[1;33m.\u001b[0m\u001b[0mtile\u001b[0m\u001b[1;33m(\u001b[0m\u001b[0mencodings\u001b[0m\u001b[1;33m,\u001b[0m \u001b[1;33m(\u001b[0m\u001b[1;36m10\u001b[0m\u001b[1;33m,\u001b[0m\u001b[1;36m1\u001b[0m\u001b[1;33m)\u001b[0m\u001b[1;33m)\u001b[0m\u001b[1;33m\u001b[0m\u001b[1;33m\u001b[0m\u001b[0m\n\u001b[1;32m---> 35\u001b[1;33m             \u001b[0mout\u001b[0m\u001b[1;33m,\u001b[0m \u001b[0mfeatures\u001b[0m \u001b[1;33m=\u001b[0m \u001b[0mmodel\u001b[0m\u001b[1;33m.\u001b[0m\u001b[0mvae\u001b[0m\u001b[1;33m.\u001b[0m\u001b[0mdecoder\u001b[0m\u001b[1;33m.\u001b[0m\u001b[0mpredict\u001b[0m\u001b[1;33m(\u001b[0m\u001b[0mrepeat_encodings\u001b[0m\u001b[1;33m)\u001b[0m\u001b[1;33m\u001b[0m\u001b[1;33m\u001b[0m\u001b[0m\n\u001b[0m\u001b[0;32m     36\u001b[0m         \u001b[1;32melse\u001b[0m\u001b[1;33m:\u001b[0m\u001b[1;33m\u001b[0m\u001b[1;33m\u001b[0m\u001b[0m\n\u001b[0;32m     37\u001b[0m             \u001b[0mencodings\u001b[0m \u001b[1;33m=\u001b[0m \u001b[0mmodel\u001b[0m\u001b[1;33m.\u001b[0m\u001b[0mvae\u001b[0m\u001b[1;33m.\u001b[0m\u001b[0mencoder\u001b[0m\u001b[1;33m.\u001b[0m\u001b[0mpredict\u001b[0m\u001b[1;33m(\u001b[0m\u001b[0mrepeated_one_hot\u001b[0m\u001b[1;33m)\u001b[0m\u001b[1;33m\u001b[0m\u001b[1;33m\u001b[0m\u001b[0m\n",
      "\u001b[1;32mC:\\Users\\jonat\\Anaconda3\\envs\\multiview_chemvae\\lib\\site-packages\\keras\\engine\\training.py\u001b[0m in \u001b[0;36mpredict\u001b[1;34m(self, x, batch_size, verbose, steps, callbacks, max_queue_size, workers, use_multiprocessing)\u001b[0m\n\u001b[0;32m   1460\u001b[0m                                             \u001b[0mverbose\u001b[0m\u001b[1;33m=\u001b[0m\u001b[0mverbose\u001b[0m\u001b[1;33m,\u001b[0m\u001b[1;33m\u001b[0m\u001b[1;33m\u001b[0m\u001b[0m\n\u001b[0;32m   1461\u001b[0m                                             \u001b[0msteps\u001b[0m\u001b[1;33m=\u001b[0m\u001b[0msteps\u001b[0m\u001b[1;33m,\u001b[0m\u001b[1;33m\u001b[0m\u001b[1;33m\u001b[0m\u001b[0m\n\u001b[1;32m-> 1462\u001b[1;33m                                             callbacks=callbacks)\n\u001b[0m\u001b[0;32m   1463\u001b[0m \u001b[1;33m\u001b[0m\u001b[0m\n\u001b[0;32m   1464\u001b[0m     def train_on_batch(self, x, y,\n",
      "\u001b[1;32mC:\\Users\\jonat\\Anaconda3\\envs\\multiview_chemvae\\lib\\site-packages\\keras\\engine\\training_arrays.py\u001b[0m in \u001b[0;36mpredict_loop\u001b[1;34m(model, f, ins, batch_size, verbose, steps, callbacks)\u001b[0m\n\u001b[0;32m    322\u001b[0m             \u001b[0mbatch_logs\u001b[0m \u001b[1;33m=\u001b[0m \u001b[1;33m{\u001b[0m\u001b[1;34m'batch'\u001b[0m\u001b[1;33m:\u001b[0m \u001b[0mbatch_index\u001b[0m\u001b[1;33m,\u001b[0m \u001b[1;34m'size'\u001b[0m\u001b[1;33m:\u001b[0m \u001b[0mlen\u001b[0m\u001b[1;33m(\u001b[0m\u001b[0mbatch_ids\u001b[0m\u001b[1;33m)\u001b[0m\u001b[1;33m}\u001b[0m\u001b[1;33m\u001b[0m\u001b[1;33m\u001b[0m\u001b[0m\n\u001b[0;32m    323\u001b[0m             \u001b[0mcallbacks\u001b[0m\u001b[1;33m.\u001b[0m\u001b[0m_call_batch_hook\u001b[0m\u001b[1;33m(\u001b[0m\u001b[1;34m'predict'\u001b[0m\u001b[1;33m,\u001b[0m \u001b[1;34m'begin'\u001b[0m\u001b[1;33m,\u001b[0m \u001b[0mbatch_index\u001b[0m\u001b[1;33m,\u001b[0m \u001b[0mbatch_logs\u001b[0m\u001b[1;33m)\u001b[0m\u001b[1;33m\u001b[0m\u001b[1;33m\u001b[0m\u001b[0m\n\u001b[1;32m--> 324\u001b[1;33m             \u001b[0mbatch_outs\u001b[0m \u001b[1;33m=\u001b[0m \u001b[0mf\u001b[0m\u001b[1;33m(\u001b[0m\u001b[0mins_batch\u001b[0m\u001b[1;33m)\u001b[0m\u001b[1;33m\u001b[0m\u001b[1;33m\u001b[0m\u001b[0m\n\u001b[0m\u001b[0;32m    325\u001b[0m             \u001b[0mbatch_outs\u001b[0m \u001b[1;33m=\u001b[0m \u001b[0mto_list\u001b[0m\u001b[1;33m(\u001b[0m\u001b[0mbatch_outs\u001b[0m\u001b[1;33m)\u001b[0m\u001b[1;33m\u001b[0m\u001b[1;33m\u001b[0m\u001b[0m\n\u001b[0;32m    326\u001b[0m             \u001b[1;32mif\u001b[0m \u001b[0mbatch_index\u001b[0m \u001b[1;33m==\u001b[0m \u001b[1;36m0\u001b[0m\u001b[1;33m:\u001b[0m\u001b[1;33m\u001b[0m\u001b[1;33m\u001b[0m\u001b[0m\n",
      "\u001b[1;32mC:\\Users\\jonat\\Anaconda3\\envs\\multiview_chemvae\\lib\\site-packages\\tensorflow\\python\\keras\\backend.py\u001b[0m in \u001b[0;36m__call__\u001b[1;34m(self, inputs)\u001b[0m\n\u001b[0;32m   3290\u001b[0m \u001b[1;33m\u001b[0m\u001b[0m\n\u001b[0;32m   3291\u001b[0m     fetched = self._callable_fn(*array_vals,\n\u001b[1;32m-> 3292\u001b[1;33m                                 run_metadata=self.run_metadata)\n\u001b[0m\u001b[0;32m   3293\u001b[0m     \u001b[0mself\u001b[0m\u001b[1;33m.\u001b[0m\u001b[0m_call_fetch_callbacks\u001b[0m\u001b[1;33m(\u001b[0m\u001b[0mfetched\u001b[0m\u001b[1;33m[\u001b[0m\u001b[1;33m-\u001b[0m\u001b[0mlen\u001b[0m\u001b[1;33m(\u001b[0m\u001b[0mself\u001b[0m\u001b[1;33m.\u001b[0m\u001b[0m_fetches\u001b[0m\u001b[1;33m)\u001b[0m\u001b[1;33m:\u001b[0m\u001b[1;33m]\u001b[0m\u001b[1;33m)\u001b[0m\u001b[1;33m\u001b[0m\u001b[1;33m\u001b[0m\u001b[0m\n\u001b[0;32m   3294\u001b[0m     output_structure = nest.pack_sequence_as(\n",
      "\u001b[1;32mC:\\Users\\jonat\\Anaconda3\\envs\\multiview_chemvae\\lib\\site-packages\\tensorflow\\python\\client\\session.py\u001b[0m in \u001b[0;36m__call__\u001b[1;34m(self, *args, **kwargs)\u001b[0m\n\u001b[0;32m   1456\u001b[0m         ret = tf_session.TF_SessionRunCallable(self._session._session,\n\u001b[0;32m   1457\u001b[0m                                                \u001b[0mself\u001b[0m\u001b[1;33m.\u001b[0m\u001b[0m_handle\u001b[0m\u001b[1;33m,\u001b[0m \u001b[0margs\u001b[0m\u001b[1;33m,\u001b[0m\u001b[1;33m\u001b[0m\u001b[1;33m\u001b[0m\u001b[0m\n\u001b[1;32m-> 1458\u001b[1;33m                                                run_metadata_ptr)\n\u001b[0m\u001b[0;32m   1459\u001b[0m         \u001b[1;32mif\u001b[0m \u001b[0mrun_metadata\u001b[0m\u001b[1;33m:\u001b[0m\u001b[1;33m\u001b[0m\u001b[1;33m\u001b[0m\u001b[0m\n\u001b[0;32m   1460\u001b[0m           \u001b[0mproto_data\u001b[0m \u001b[1;33m=\u001b[0m \u001b[0mtf_session\u001b[0m\u001b[1;33m.\u001b[0m\u001b[0mTF_GetBuffer\u001b[0m\u001b[1;33m(\u001b[0m\u001b[0mrun_metadata_ptr\u001b[0m\u001b[1;33m)\u001b[0m\u001b[1;33m\u001b[0m\u001b[1;33m\u001b[0m\u001b[0m\n",
      "\u001b[1;31mKeyboardInterrupt\u001b[0m: "
     ]
    }
   ],
   "source": [
    "# reconstruction (character_model, char_data[:5000], grammar=False)\n",
    "# reconstruction (two_tower_character_model, char_data[:5000], rdkit_features[:5000], grammar=False)\n",
    "\n",
    "# reconstruction (grammar_model, grammar_data[:5000], grammar=True)\n",
    "reconstruction (two_tower_grammar_model, grammar_data[:5000], rdkit_features[:5000], grammar=True)"
   ]
  }
 ],
 "metadata": {
  "kernelspec": {
   "name": "python3613jvsc74a57bd014c0419fa5dc6599ba6e4c21416d65d4825df4454f7e54a601a3318ef9ad1c5d",
   "display_name": "Python 3.6.13 64-bit ('multiview_chemvae': conda)"
  },
  "language_info": {
   "codemirror_mode": {
    "name": "ipython",
    "version": 3
   },
   "file_extension": ".py",
   "mimetype": "text/x-python",
   "name": "python",
   "nbconvert_exporter": "python",
   "pygments_lexer": "ipython3",
   "version": "3.6.13"
  }
 },
 "nbformat": 4,
 "nbformat_minor": 2
}