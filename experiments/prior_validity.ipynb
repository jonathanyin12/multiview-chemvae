{
 "metadata": {
  "language_info": {
   "codemirror_mode": {
    "name": "ipython",
    "version": 3
   },
   "file_extension": ".py",
   "mimetype": "text/x-python",
   "name": "python",
   "nbconvert_exporter": "python",
   "pygments_lexer": "ipython3",
   "version": "3.6.13"
  },
  "orig_nbformat": 2,
  "kernelspec": {
   "name": "python3",
   "display_name": "Python 3.6.13 64-bit ('multiview_chemvae': conda)"
  },
  "interpreter": {
   "hash": "29db295136b199f295fe4590eb73521f1f9b483c9eb3c02d1a26fce559664da2"
  }
 },
 "nbformat": 4,
 "nbformat_minor": 2,
 "cells": [
  {
   "cell_type": "markdown",
   "source": [
    "# **Load models for comparison**"
   ],
   "metadata": {}
  },
  {
   "cell_type": "code",
   "execution_count": null,
   "source": [
    "import sys\r\n",
    "sys.path.insert(0, '../')\r\n",
    "\r\n",
    "import molecule_vae\r\n",
    "\r\n",
    "character_weights = \"../weights/CharVAE_L128.hdf5\"\r\n",
    "character_model = molecule_vae.CharacterModel(character_weights, two_tower=False)\r\n",
    "\r\n",
    "two_tower_character_weights = \"../weights/Two_tower_CharVAE_L128.hdf5\"\r\n",
    "two_tower_character_model = molecule_vae.CharacterModel(two_tower_character_weights, two_tower=True)\r\n",
    "\r\n",
    "grammar_weights = \"../weights/GrammarVAE_L128.hdf5\"\r\n",
    "grammar_model = molecule_vae.GrammarModel(grammar_weights, two_tower=False)\r\n",
    "\r\n",
    "two_tower_grammar_weights = \"../weights/Two_tower_GrammarVAE_L128.hdf5\"\r\n",
    "two_tower_grammar_model = molecule_vae.GrammarModel(two_tower_grammar_weights, two_tower=True)"
   ],
   "outputs": [],
   "metadata": {}
  },
  {
   "cell_type": "markdown",
   "source": [
    "# **Calculate prior validity**"
   ],
   "metadata": {}
  },
  {
   "cell_type": "code",
   "execution_count": null,
   "source": [
    "from tqdm.notebook import tqdm\r\n",
    "from rdkit import Chem\r\n",
    "\r\n",
    "decode_attempts = 100\r\n",
    "\r\n",
    "def decode_from_latent_space(latent_points, model):\r\n",
    "    decoded_molecules = []\r\n",
    "    for i in tqdm(range(decode_attempts), leave=False):\r\n",
    "        current_decoded_molecules = model.decode(latent_points)\r\n",
    "        current_decoded_molecules = [x if x != '' else 'Sequence too long' for x in current_decoded_molecules]\r\n",
    "        decoded_molecules.extend(current_decoded_molecules)\r\n",
    "    num_valid=0\r\n",
    "    for smile in decoded_molecules:   \r\n",
    "        if Chem.MolFromSmiles(smile) is not None:\r\n",
    "            num_valid+=1\r\n",
    "\r\n",
    "    return num_valid/len(decoded_molecules)"
   ],
   "outputs": [],
   "metadata": {}
  },
  {
   "cell_type": "code",
   "execution_count": null,
   "source": [
    "import numpy as np\r\n",
    "\r\n",
    "# modify this to select which model you want to test\r\n",
    "model = two_tower_grammar_model\r\n",
    "\r\n",
    "n_samples = 1000\r\n",
    "batch_size = 100\r\n",
    "latent_rep_size = 128\r\n",
    "epochs = n_samples // batch_size\r\n",
    "n_valid = []\r\n",
    "for i in tqdm(range(epochs)):\r\n",
    "    z1=np.random.normal(scale=1, size=(batch_size, latent_rep_size))\r\n",
    "    frac_valid = decode_from_latent_space(z1, model)\r\n",
    "    n_valid.append(frac_valid)\r\n",
    "    print('Average validity: {} +/- {}'.format(np.average(n_valid), np.std(n_valid)))"
   ],
   "outputs": [],
   "metadata": {}
  }
 ]
}