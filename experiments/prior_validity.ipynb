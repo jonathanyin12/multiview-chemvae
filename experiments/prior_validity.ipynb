{
 "metadata": {
  "language_info": {
   "codemirror_mode": {
    "name": "ipython",
    "version": 3
   },
   "file_extension": ".py",
   "mimetype": "text/x-python",
   "name": "python",
   "nbconvert_exporter": "python",
   "pygments_lexer": "ipython3",
   "version": "3.6.13"
  },
  "orig_nbformat": 2,
  "kernelspec": {
   "name": "python3613jvsc74a57bd014c0419fa5dc6599ba6e4c21416d65d4825df4454f7e54a601a3318ef9ad1c5d",
   "display_name": "Python 3.6.13 64-bit ('multiview_chemvae': conda)"
  }
 },
 "nbformat": 4,
 "nbformat_minor": 2,
 "cells": [
  {
   "cell_type": "code",
   "execution_count": null,
   "metadata": {},
   "outputs": [],
   "source": [
    "import sys\n",
    "sys.path.insert(0, '../')\n",
    "\n",
    "import molecule_vae\n",
    "\n",
    "grammar_weights = \"../weights/GrammarVAE_L128.hdf5\"\n",
    "grammar_model = molecule_vae.GrammarModel(grammar_weights, latent_rep_size=128)\n",
    "\n",
    "two_tower_grammar_weights = \"../weights/Two_tower_GrammarVAE_L128.hdf5\"\n",
    "two_tower_grammar_model = molecule_vae.GrammarModel(two_tower_grammar_weights, latent_rep_size=128, two_tower=True)\n",
    "\n",
    "character_weights = \"../weights/CharVAE_L128.hdf5\"\n",
    "character_model = molecule_vae.CharacterModel(character_weights, latent_rep_size=128)\n",
    "\n",
    "two_tower_character_weights = \"../weights/Two_tower_CharVAE_L128.hdf5\"\n",
    "two_tower_character_model = molecule_vae.CharacterModel(two_tower_character_weights, latent_rep_size=128, two_tower=True)"
   ]
  },
  {
   "cell_type": "code",
   "execution_count": null,
   "metadata": {},
   "outputs": [],
   "source": [
    "from tqdm import tqdm\n",
    "import rdkit\n",
    "from rdkit import Chem\n",
    "\n",
    "decode_attempts = 100\n",
    "\n",
    "def decode_from_latent_space(latent_points, model):\n",
    "    decoded_molecules = []\n",
    "    for i in tqdm(range(decode_attempts), leave=False):\n",
    "        current_decoded_molecules = model.decode(latent_points)\n",
    "        current_decoded_molecules = [x if x != '' else 'Sequence too long' for x in current_decoded_molecules]\n",
    "        decoded_molecules.extend(current_decoded_molecules)\n",
    "    num_valid=0\n",
    "    for smile in decoded_molecules:   \n",
    "        if Chem.MolFromSmiles(smile) is not None:\n",
    "            num_valid+=1\n",
    "\n",
    "    return num_valid/len(decoded_molecules)"
   ]
  },
  {
   "cell_type": "code",
   "execution_count": null,
   "metadata": {},
   "outputs": [],
   "source": [
    "import numpy as np\n",
    "\n",
    "model = two_tower_grammar_model\n",
    "\n",
    "n_samples = 1000\n",
    "batch_size = 100\n",
    "latent_rep_size = 128\n",
    "epochs = n_samples // batch_size\n",
    "n_valid = []\n",
    "for i in tqdm(range(epochs)):\n",
    "    z1=np.random.normal(scale=1, size=(batch_size, latent_rep_size))\n",
    "    frac_valid = decode_from_latent_space(z1, model)\n",
    "    n_valid.append(frac_valid)\n",
    "    print(np.average(n_valid), np.std(n_valid))\n",
    "\n",
    "print(np.average(n_valid), np.std(n_valid))"
   ]
  }
 ]
}